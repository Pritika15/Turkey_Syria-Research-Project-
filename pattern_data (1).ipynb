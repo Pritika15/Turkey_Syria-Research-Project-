{
  "nbformat": 4,
  "nbformat_minor": 0,
  "metadata": {
    "colab": {
      "provenance": []
    },
    "kernelspec": {
      "name": "python3",
      "display_name": "Python 3"
    },
    "language_info": {
      "name": "python"
    }
  },
  "cells": [
    {
      "cell_type": "code",
      "execution_count": 13,
      "metadata": {
        "colab": {
          "base_uri": "https://localhost:8080/"
        },
        "id": "APyxWaL312TI",
        "outputId": "9e31e819-2c96-44f9-f712-dbacc2f1924c"
      },
      "outputs": [
        {
          "output_type": "stream",
          "name": "stdout",
          "text": [
            "Looking in indexes: https://pypi.org/simple, https://us-python.pkg.dev/colab-wheels/public/simple/\n",
            "Requirement already satisfied: Pattern in /usr/local/lib/python3.9/dist-packages (3.6)\n",
            "Requirement already satisfied: feedparser in /usr/local/lib/python3.9/dist-packages (from Pattern) (6.0.10)\n",
            "Requirement already satisfied: future in /usr/local/lib/python3.9/dist-packages (from Pattern) (0.18.3)\n",
            "Requirement already satisfied: pdfminer.six in /usr/local/lib/python3.9/dist-packages (from Pattern) (20221105)\n",
            "Requirement already satisfied: requests in /usr/local/lib/python3.9/dist-packages (from Pattern) (2.27.1)\n",
            "Requirement already satisfied: python-docx in /usr/local/lib/python3.9/dist-packages (from Pattern) (0.8.11)\n",
            "Requirement already satisfied: lxml in /usr/local/lib/python3.9/dist-packages (from Pattern) (4.9.2)\n",
            "Requirement already satisfied: scipy in /usr/local/lib/python3.9/dist-packages (from Pattern) (1.10.1)\n",
            "Requirement already satisfied: cherrypy in /usr/local/lib/python3.9/dist-packages (from Pattern) (18.8.0)\n",
            "Requirement already satisfied: mysqlclient in /usr/local/lib/python3.9/dist-packages (from Pattern) (2.1.1)\n",
            "Requirement already satisfied: numpy in /usr/local/lib/python3.9/dist-packages (from Pattern) (1.22.4)\n",
            "Requirement already satisfied: backports.csv in /usr/local/lib/python3.9/dist-packages (from Pattern) (1.0.7)\n",
            "Requirement already satisfied: nltk in /usr/local/lib/python3.9/dist-packages (from Pattern) (3.8.1)\n",
            "Requirement already satisfied: beautifulsoup4 in /usr/local/lib/python3.9/dist-packages (from Pattern) (4.11.2)\n",
            "Requirement already satisfied: soupsieve>1.2 in /usr/local/lib/python3.9/dist-packages (from beautifulsoup4->Pattern) (2.4)\n",
            "Requirement already satisfied: jaraco.collections in /usr/local/lib/python3.9/dist-packages (from cherrypy->Pattern) (4.0.0)\n",
            "Requirement already satisfied: zc.lockfile in /usr/local/lib/python3.9/dist-packages (from cherrypy->Pattern) (3.0.post1)\n",
            "Requirement already satisfied: more-itertools in /usr/local/lib/python3.9/dist-packages (from cherrypy->Pattern) (9.1.0)\n",
            "Requirement already satisfied: cheroot>=8.2.1 in /usr/local/lib/python3.9/dist-packages (from cherrypy->Pattern) (9.0.0)\n",
            "Requirement already satisfied: portend>=2.1.1 in /usr/local/lib/python3.9/dist-packages (from cherrypy->Pattern) (3.1.0)\n",
            "Requirement already satisfied: sgmllib3k in /usr/local/lib/python3.9/dist-packages (from feedparser->Pattern) (1.0.0)\n",
            "Requirement already satisfied: tqdm in /usr/local/lib/python3.9/dist-packages (from nltk->Pattern) (4.65.0)\n",
            "Requirement already satisfied: regex>=2021.8.3 in /usr/local/lib/python3.9/dist-packages (from nltk->Pattern) (2022.10.31)\n",
            "Requirement already satisfied: joblib in /usr/local/lib/python3.9/dist-packages (from nltk->Pattern) (1.1.1)\n",
            "Requirement already satisfied: click in /usr/local/lib/python3.9/dist-packages (from nltk->Pattern) (8.1.3)\n",
            "Requirement already satisfied: charset-normalizer>=2.0.0 in /usr/local/lib/python3.9/dist-packages (from pdfminer.six->Pattern) (2.0.12)\n",
            "Requirement already satisfied: cryptography>=36.0.0 in /usr/local/lib/python3.9/dist-packages (from pdfminer.six->Pattern) (40.0.1)\n",
            "Requirement already satisfied: urllib3<1.27,>=1.21.1 in /usr/local/lib/python3.9/dist-packages (from requests->Pattern) (1.26.15)\n",
            "Requirement already satisfied: idna<4,>=2.5 in /usr/local/lib/python3.9/dist-packages (from requests->Pattern) (3.4)\n",
            "Requirement already satisfied: certifi>=2017.4.17 in /usr/local/lib/python3.9/dist-packages (from requests->Pattern) (2022.12.7)\n",
            "Requirement already satisfied: jaraco.functools in /usr/local/lib/python3.9/dist-packages (from cheroot>=8.2.1->cherrypy->Pattern) (3.6.0)\n",
            "Requirement already satisfied: six>=1.11.0 in /usr/local/lib/python3.9/dist-packages (from cheroot>=8.2.1->cherrypy->Pattern) (1.16.0)\n",
            "Requirement already satisfied: cffi>=1.12 in /usr/local/lib/python3.9/dist-packages (from cryptography>=36.0.0->pdfminer.six->Pattern) (1.15.1)\n",
            "Requirement already satisfied: tempora>=1.8 in /usr/local/lib/python3.9/dist-packages (from portend>=2.1.1->cherrypy->Pattern) (5.2.1)\n",
            "Requirement already satisfied: jaraco.text in /usr/local/lib/python3.9/dist-packages (from jaraco.collections->cherrypy->Pattern) (3.11.1)\n",
            "Requirement already satisfied: setuptools in /usr/local/lib/python3.9/dist-packages (from zc.lockfile->cherrypy->Pattern) (67.6.1)\n",
            "Requirement already satisfied: pycparser in /usr/local/lib/python3.9/dist-packages (from cffi>=1.12->cryptography>=36.0.0->pdfminer.six->Pattern) (2.21)\n",
            "Requirement already satisfied: pytz in /usr/local/lib/python3.9/dist-packages (from tempora>=1.8->portend>=2.1.1->cherrypy->Pattern) (2022.7.1)\n",
            "Requirement already satisfied: jaraco.context>=4.1 in /usr/local/lib/python3.9/dist-packages (from jaraco.text->jaraco.collections->cherrypy->Pattern) (4.3.0)\n",
            "Requirement already satisfied: autocommand in /usr/local/lib/python3.9/dist-packages (from jaraco.text->jaraco.collections->cherrypy->Pattern) (2.2.2)\n",
            "Requirement already satisfied: inflect in /usr/local/lib/python3.9/dist-packages (from jaraco.text->jaraco.collections->cherrypy->Pattern) (6.0.2)\n",
            "Requirement already satisfied: pydantic>=1.9.1 in /usr/local/lib/python3.9/dist-packages (from inflect->jaraco.text->jaraco.collections->cherrypy->Pattern) (1.10.7)\n",
            "Requirement already satisfied: typing-extensions>=4.2.0 in /usr/local/lib/python3.9/dist-packages (from pydantic>=1.9.1->inflect->jaraco.text->jaraco.collections->cherrypy->Pattern) (4.5.0)\n"
          ]
        }
      ],
      "source": [
        "!pip install Pattern\n"
      ]
    },
    {
      "cell_type": "code",
      "source": [
        "!gdown 1OoeeZRnSi8QRlX0toom0gnuEMKN0LQoF&export=download"
      ],
      "metadata": {
        "colab": {
          "base_uri": "https://localhost:8080/"
        },
        "id": "ptY36nCz14fL",
        "outputId": "8853a2df-2058-4096-9aee-7ad2083545e6"
      },
      "execution_count": 27,
      "outputs": [
        {
          "output_type": "stream",
          "name": "stdout",
          "text": [
            "Downloading...\n",
            "From: https://drive.google.com/uc?id=1OoeeZRnSi8QRlX0toom0gnuEMKN0LQoF\n",
            "To: /content/patternDataset.csv\n",
            "100% 763M/763M [00:04<00:00, 169MB/s]\n"
          ]
        }
      ]
    },
    {
      "cell_type": "code",
      "source": [
        "from pattern.en import sentiment\n",
        "print(sentiment(\"The course of true love never did run smooth.\"))\n"
      ],
      "metadata": {
        "colab": {
          "base_uri": "https://localhost:8080/"
        },
        "id": "xN7iFn6N2E-e",
        "outputId": "d1bbb154-373a-4242-af0d-ab645143329f"
      },
      "execution_count": 15,
      "outputs": [
        {
          "output_type": "stream",
          "name": "stdout",
          "text": [
            "(0.4166666666666667, 0.5833333333333334)\n"
          ]
        }
      ]
    },
    {
      "cell_type": "code",
      "source": [
        "import pandas as pd"
      ],
      "metadata": {
        "id": "QEUlrTiw2Mht"
      },
      "execution_count": 16,
      "outputs": []
    },
    {
      "cell_type": "code",
      "source": [
        "df = pd.read_csv(\"patternDataset.csv\")"
      ],
      "metadata": {
        "id": "jQCZyduo2QQU"
      },
      "execution_count": 28,
      "outputs": []
    },
    {
      "cell_type": "code",
      "source": [
        "df.head()"
      ],
      "metadata": {
        "colab": {
          "base_uri": "https://localhost:8080/",
          "height": 530
        },
        "id": "buggZDT72ZbC",
        "outputId": "50489409-507f-4e56-c7fb-7cec52256f67"
      },
      "execution_count": 29,
      "outputs": [
        {
          "output_type": "execute_result",
          "data": {
            "text/plain": [
              "   Unnamed: 0.1  Unnamed: 0  \\\n",
              "0             0           0   \n",
              "1             1           1   \n",
              "2             2           2   \n",
              "3             3           3   \n",
              "4             4           4   \n",
              "\n",
              "                                     sentiment_coeff  \\\n",
              "0  [1.083278598569799, -0.9697309385804362, -0.96...   \n",
              "1  [-0.9805764616248396, -0.9843021256154544, -0....   \n",
              "2  [-0.9782029104247226, -0.9917034716429152, -0....   \n",
              "3  [-1.0033012777444754, -0.9978815738872362, -0....   \n",
              "4  [-0.9688911574963032, -1.0300744553954169, -0....   \n",
              "\n",
              "                                        tfidf_scores  \\\n",
              "0  [11.11540536742055, 8.530709247024179, 5.14603...   \n",
              "1  [1.2062910820851462, 4.510408198354314, 3.3749...   \n",
              "2  [6.299007596345884, 10.627052599506618, 3.9252...   \n",
              "3  [3.3210552052332716, 6.498087047496811, 5.7963...   \n",
              "4  [1.6874984482290247, 11.11540536742055, 4.7242...   \n",
              "\n",
              "                                            sentence  sentiment  \\\n",
              "0  89_member medical_team has_been dispatched by ...          0   \n",
              "1  earthquake relief in turkey aerial recovery fo...          0   \n",
              "2  the mozaik_foundation have launched_an emergen...          0   \n",
              "3  this call to contribute to earthquake relief i...          0   \n",
              "4  in compliance_with the royal_orders of sultan_...          0   \n",
              "\n",
              "   sentiment_rate  prediction  new_predicted  \n",
              "0     -119.661876           1              1  \n",
              "1     -183.453875           1              1  \n",
              "2     -219.423624           1              1  \n",
              "3     -195.022992           1              1  \n",
              "4      -12.322221           1              1  "
            ],
            "text/html": [
              "\n",
              "  <div id=\"df-ad5315b7-6760-4d4c-94ab-0fa1cd469a43\">\n",
              "    <div class=\"colab-df-container\">\n",
              "      <div>\n",
              "<style scoped>\n",
              "    .dataframe tbody tr th:only-of-type {\n",
              "        vertical-align: middle;\n",
              "    }\n",
              "\n",
              "    .dataframe tbody tr th {\n",
              "        vertical-align: top;\n",
              "    }\n",
              "\n",
              "    .dataframe thead th {\n",
              "        text-align: right;\n",
              "    }\n",
              "</style>\n",
              "<table border=\"1\" class=\"dataframe\">\n",
              "  <thead>\n",
              "    <tr style=\"text-align: right;\">\n",
              "      <th></th>\n",
              "      <th>Unnamed: 0.1</th>\n",
              "      <th>Unnamed: 0</th>\n",
              "      <th>sentiment_coeff</th>\n",
              "      <th>tfidf_scores</th>\n",
              "      <th>sentence</th>\n",
              "      <th>sentiment</th>\n",
              "      <th>sentiment_rate</th>\n",
              "      <th>prediction</th>\n",
              "      <th>new_predicted</th>\n",
              "    </tr>\n",
              "  </thead>\n",
              "  <tbody>\n",
              "    <tr>\n",
              "      <th>0</th>\n",
              "      <td>0</td>\n",
              "      <td>0</td>\n",
              "      <td>[1.083278598569799, -0.9697309385804362, -0.96...</td>\n",
              "      <td>[11.11540536742055, 8.530709247024179, 5.14603...</td>\n",
              "      <td>89_member medical_team has_been dispatched by ...</td>\n",
              "      <td>0</td>\n",
              "      <td>-119.661876</td>\n",
              "      <td>1</td>\n",
              "      <td>1</td>\n",
              "    </tr>\n",
              "    <tr>\n",
              "      <th>1</th>\n",
              "      <td>1</td>\n",
              "      <td>1</td>\n",
              "      <td>[-0.9805764616248396, -0.9843021256154544, -0....</td>\n",
              "      <td>[1.2062910820851462, 4.510408198354314, 3.3749...</td>\n",
              "      <td>earthquake relief in turkey aerial recovery fo...</td>\n",
              "      <td>0</td>\n",
              "      <td>-183.453875</td>\n",
              "      <td>1</td>\n",
              "      <td>1</td>\n",
              "    </tr>\n",
              "    <tr>\n",
              "      <th>2</th>\n",
              "      <td>2</td>\n",
              "      <td>2</td>\n",
              "      <td>[-0.9782029104247226, -0.9917034716429152, -0....</td>\n",
              "      <td>[6.299007596345884, 10.627052599506618, 3.9252...</td>\n",
              "      <td>the mozaik_foundation have launched_an emergen...</td>\n",
              "      <td>0</td>\n",
              "      <td>-219.423624</td>\n",
              "      <td>1</td>\n",
              "      <td>1</td>\n",
              "    </tr>\n",
              "    <tr>\n",
              "      <th>3</th>\n",
              "      <td>3</td>\n",
              "      <td>3</td>\n",
              "      <td>[-1.0033012777444754, -0.9978815738872362, -0....</td>\n",
              "      <td>[3.3210552052332716, 6.498087047496811, 5.7963...</td>\n",
              "      <td>this call to contribute to earthquake relief i...</td>\n",
              "      <td>0</td>\n",
              "      <td>-195.022992</td>\n",
              "      <td>1</td>\n",
              "      <td>1</td>\n",
              "    </tr>\n",
              "    <tr>\n",
              "      <th>4</th>\n",
              "      <td>4</td>\n",
              "      <td>4</td>\n",
              "      <td>[-0.9688911574963032, -1.0300744553954169, -0....</td>\n",
              "      <td>[1.6874984482290247, 11.11540536742055, 4.7242...</td>\n",
              "      <td>in compliance_with the royal_orders of sultan_...</td>\n",
              "      <td>0</td>\n",
              "      <td>-12.322221</td>\n",
              "      <td>1</td>\n",
              "      <td>1</td>\n",
              "    </tr>\n",
              "  </tbody>\n",
              "</table>\n",
              "</div>\n",
              "      <button class=\"colab-df-convert\" onclick=\"convertToInteractive('df-ad5315b7-6760-4d4c-94ab-0fa1cd469a43')\"\n",
              "              title=\"Convert this dataframe to an interactive table.\"\n",
              "              style=\"display:none;\">\n",
              "        \n",
              "  <svg xmlns=\"http://www.w3.org/2000/svg\" height=\"24px\"viewBox=\"0 0 24 24\"\n",
              "       width=\"24px\">\n",
              "    <path d=\"M0 0h24v24H0V0z\" fill=\"none\"/>\n",
              "    <path d=\"M18.56 5.44l.94 2.06.94-2.06 2.06-.94-2.06-.94-.94-2.06-.94 2.06-2.06.94zm-11 1L8.5 8.5l.94-2.06 2.06-.94-2.06-.94L8.5 2.5l-.94 2.06-2.06.94zm10 10l.94 2.06.94-2.06 2.06-.94-2.06-.94-.94-2.06-.94 2.06-2.06.94z\"/><path d=\"M17.41 7.96l-1.37-1.37c-.4-.4-.92-.59-1.43-.59-.52 0-1.04.2-1.43.59L10.3 9.45l-7.72 7.72c-.78.78-.78 2.05 0 2.83L4 21.41c.39.39.9.59 1.41.59.51 0 1.02-.2 1.41-.59l7.78-7.78 2.81-2.81c.8-.78.8-2.07 0-2.86zM5.41 20L4 18.59l7.72-7.72 1.47 1.35L5.41 20z\"/>\n",
              "  </svg>\n",
              "      </button>\n",
              "      \n",
              "  <style>\n",
              "    .colab-df-container {\n",
              "      display:flex;\n",
              "      flex-wrap:wrap;\n",
              "      gap: 12px;\n",
              "    }\n",
              "\n",
              "    .colab-df-convert {\n",
              "      background-color: #E8F0FE;\n",
              "      border: none;\n",
              "      border-radius: 50%;\n",
              "      cursor: pointer;\n",
              "      display: none;\n",
              "      fill: #1967D2;\n",
              "      height: 32px;\n",
              "      padding: 0 0 0 0;\n",
              "      width: 32px;\n",
              "    }\n",
              "\n",
              "    .colab-df-convert:hover {\n",
              "      background-color: #E2EBFA;\n",
              "      box-shadow: 0px 1px 2px rgba(60, 64, 67, 0.3), 0px 1px 3px 1px rgba(60, 64, 67, 0.15);\n",
              "      fill: #174EA6;\n",
              "    }\n",
              "\n",
              "    [theme=dark] .colab-df-convert {\n",
              "      background-color: #3B4455;\n",
              "      fill: #D2E3FC;\n",
              "    }\n",
              "\n",
              "    [theme=dark] .colab-df-convert:hover {\n",
              "      background-color: #434B5C;\n",
              "      box-shadow: 0px 1px 3px 1px rgba(0, 0, 0, 0.15);\n",
              "      filter: drop-shadow(0px 1px 2px rgba(0, 0, 0, 0.3));\n",
              "      fill: #FFFFFF;\n",
              "    }\n",
              "  </style>\n",
              "\n",
              "      <script>\n",
              "        const buttonEl =\n",
              "          document.querySelector('#df-ad5315b7-6760-4d4c-94ab-0fa1cd469a43 button.colab-df-convert');\n",
              "        buttonEl.style.display =\n",
              "          google.colab.kernel.accessAllowed ? 'block' : 'none';\n",
              "\n",
              "        async function convertToInteractive(key) {\n",
              "          const element = document.querySelector('#df-ad5315b7-6760-4d4c-94ab-0fa1cd469a43');\n",
              "          const dataTable =\n",
              "            await google.colab.kernel.invokeFunction('convertToInteractive',\n",
              "                                                     [key], {});\n",
              "          if (!dataTable) return;\n",
              "\n",
              "          const docLinkHtml = 'Like what you see? Visit the ' +\n",
              "            '<a target=\"_blank\" href=https://colab.research.google.com/notebooks/data_table.ipynb>data table notebook</a>'\n",
              "            + ' to learn more about interactive tables.';\n",
              "          element.innerHTML = '';\n",
              "          dataTable['output_type'] = 'display_data';\n",
              "          await google.colab.output.renderOutput(dataTable, element);\n",
              "          const docLink = document.createElement('div');\n",
              "          docLink.innerHTML = docLinkHtml;\n",
              "          element.appendChild(docLink);\n",
              "        }\n",
              "      </script>\n",
              "    </div>\n",
              "  </div>\n",
              "  "
            ]
          },
          "metadata": {},
          "execution_count": 29
        }
      ]
    },
    {
      "cell_type": "code",
      "source": [
        "df.shape"
      ],
      "metadata": {
        "colab": {
          "base_uri": "https://localhost:8080/"
        },
        "id": "jaPHhnQQ2f4F",
        "outputId": "3168f922-c183-43c0-b0bd-c192d48a2588"
      },
      "execution_count": 30,
      "outputs": [
        {
          "output_type": "execute_result",
          "data": {
            "text/plain": [
              "(667464, 9)"
            ]
          },
          "metadata": {},
          "execution_count": 30
        }
      ]
    },
    {
      "cell_type": "code",
      "source": [
        "df.patternPrediction = df.sentence.apply(lambda x:sentiment(x))"
      ],
      "metadata": {
        "colab": {
          "base_uri": "https://localhost:8080/"
        },
        "id": "kmUH1wDG2nTv",
        "outputId": "16122f82-f067-45e7-a5bc-bdbf1cdbba9c"
      },
      "execution_count": 33,
      "outputs": [
        {
          "output_type": "stream",
          "name": "stderr",
          "text": [
            "<ipython-input-33-7e68d6d1b6a5>:1: UserWarning: Pandas doesn't allow columns to be created via a new attribute name - see https://pandas.pydata.org/pandas-docs/stable/indexing.html#attribute-access\n",
            "  df.patternPrediction = df.sentence.apply(lambda x:sentiment(x))\n"
          ]
        }
      ]
    },
    {
      "cell_type": "code",
      "source": [
        "a = df.patternPrediction"
      ],
      "metadata": {
        "id": "BPm0Hoc-2zzM"
      },
      "execution_count": 34,
      "outputs": []
    },
    {
      "cell_type": "code",
      "source": [
        "positive = 0\n",
        "negative = 0\n",
        "neutral  =0\n",
        "for i in range(len(a)):\n",
        "  b = a.iloc[i][0]\n",
        "  if b < 0:\n",
        "    negative = negative + 1\n",
        "  elif b==0:\n",
        "    neutral=neutral+1\n",
        "  else:\n",
        "    positive = positive + 1"
      ],
      "metadata": {
        "id": "_0Y_aYft262i"
      },
      "execution_count": 35,
      "outputs": []
    },
    {
      "cell_type": "code",
      "source": [
        "positive"
      ],
      "metadata": {
        "colab": {
          "base_uri": "https://localhost:8080/"
        },
        "id": "naCsBJVf3L9A",
        "outputId": "5f62217d-ecd4-442c-98ec-bbb7bb9e106e"
      },
      "execution_count": 36,
      "outputs": [
        {
          "output_type": "execute_result",
          "data": {
            "text/plain": [
              "160715"
            ]
          },
          "metadata": {},
          "execution_count": 36
        }
      ]
    },
    {
      "cell_type": "code",
      "source": [
        "negative"
      ],
      "metadata": {
        "id": "J2P-W6ju3NlJ",
        "outputId": "caeb0a9f-60b7-4ed5-c589-b62049b415ec",
        "colab": {
          "base_uri": "https://localhost:8080/"
        }
      },
      "execution_count": 37,
      "outputs": [
        {
          "output_type": "execute_result",
          "data": {
            "text/plain": [
              "147240"
            ]
          },
          "metadata": {},
          "execution_count": 37
        }
      ]
    },
    {
      "cell_type": "code",
      "source": [
        "neutral"
      ],
      "metadata": {
        "colab": {
          "base_uri": "https://localhost:8080/"
        },
        "id": "6FrSSNZM8CEt",
        "outputId": "e24f2b74-53e7-4552-d60c-5aa61545e179"
      },
      "execution_count": 38,
      "outputs": [
        {
          "output_type": "execute_result",
          "data": {
            "text/plain": [
              "359509"
            ]
          },
          "metadata": {},
          "execution_count": 38
        }
      ]
    },
    {
      "cell_type": "code",
      "source": [],
      "metadata": {
        "id": "9q4wQz-r8GcG"
      },
      "execution_count": null,
      "outputs": []
    }
  ]
}